{
 "cells": [
  {
   "cell_type": "markdown",
   "metadata": {},
   "source": [
    "### Getting Reddit Posts using BeautifulSoup"
   ]
  },
  {
   "cell_type": "code",
   "execution_count": 10,
   "metadata": {},
   "outputs": [],
   "source": [
    "import requests\n",
    "import csv\n",
    "import time\n",
    "from bs4 import BeautifulSoup"
   ]
  },
  {
   "cell_type": "markdown",
   "metadata": {},
   "source": [
    "Specify the url for the webpage that we want to scrape. we're using [Reddit's old website](https://old.reddit.com) for simplicity. Before we start writing the script, first we take a look to the website and see its structure "
   ]
  },
  {
   "cell_type": "markdown",
   "metadata": {},
   "source": [
    "### Getting the Page with BeautifulSoup"
   ]
  },
  {
   "cell_type": "code",
   "execution_count": 11,
   "metadata": {},
   "outputs": [],
   "source": [
    "# First, we need to request the web page using the ‘requests’ library.\n",
    "url = \"https://old.reddit.com\"\n",
    "\n",
    "# Headers to simulate a browser visit.\n",
    "headers = {'User-Agent': 'Mozilla/5.0'}\n",
    "\n",
    "# Returns a response object which contains the entire source code of the HTML file.\n",
    "response = requests.get(url, headers=headers)"
   ]
  },
  {
   "cell_type": "markdown",
   "metadata": {},
   "source": [
    "### Finding the tags"
   ]
  },
  {
   "cell_type": "code",
   "execution_count": 12,
   "metadata": {},
   "outputs": [],
   "source": [
    "# Create a list to store the posts\n",
    "posts_data = []\n",
    "\n",
    "desired_number_of_posts = 20000  # or any number you want\n",
    "\n",
    "# Loop through the pages\n",
    "while True:\n",
    "    # Parse the page content\n",
    "    soup = BeautifulSoup(response.content, 'html.parser')\n",
    "    # Find all the posts in the page using the class name 'thing' which is the class name of the div tag that contains the posts.\n",
    "    posts = soup.find_all('div', class_='thing')\n",
    "\n",
    "    for post in posts:\n",
    "        # Create a dictionary to store the post data\n",
    "        post_data = {}\n",
    "        # Get the title element of the post\n",
    "        title_element = post.find('p', class_=\"title\")\n",
    "        # Check if the post has a title and add it to the dictionary\n",
    "        post_data['Title'] = title_element.text if title_element else \"N/A\"\n",
    "        author_element = post.find('a', class_='author')\n",
    "        # Check if the post has an author and add it to the dictionary\n",
    "        post_data['Author'] = author_element.text if author_element else \"N/A\"\n",
    "        comments_element = post.find('a', class_='comments')\n",
    "        # Check if the post has comments and get only the number of comments and add it to the dictionary\n",
    "        post_data['Comments'] = comments_element.text.split()[0] if comments_element else 0\n",
    "        likes_element = post.find(\"div\", attrs={\"class\": \"score likes\"})\n",
    "        # Check if the post has likes and add it to the dictionary\n",
    "        if likes_element and likes_element.text == \"•\":\n",
    "            post_data['Likes'] = 0\n",
    "        elif likes_element:\n",
    "            post_data['Likes'] = likes_element.text\n",
    "        else:\n",
    "            post_data['Likes'] = \"N/A\"\n",
    "        # Add the post data to the list\n",
    "        posts_data.append(post_data)\n",
    "\n",
    "    # Get the button that takes us to the next page\n",
    "    next_button = soup.find('span', class_='next-button')\n",
    "    # Get the url of the next page\n",
    "    url = next_button.find('a').get('href') if next_button else None\n",
    "\n",
    "    if url and len(posts_data) < desired_number_of_posts:\n",
    "        # Make the next request\n",
    "        response = requests.get(url, headers=headers)\n",
    "        time.sleep(2)  # Wait for 2 seconds before making the next request\n",
    "    else:\n",
    "        break"
   ]
  },
  {
   "cell_type": "code",
   "execution_count": 13,
   "metadata": {},
   "outputs": [
    {
     "name": "stdout",
     "output_type": "stream",
     "text": [
      "Total unique posts collected: 866\n"
     ]
    }
   ],
   "source": [
    "# Write the posts data to a CSV file with UTF-8 encoding\n",
    "with open('new_reddit_posts_bs4.csv', 'w', newline='', encoding='utf-8') as f:\n",
    "    writer = csv.DictWriter(f, fieldnames=['Title', 'Author', 'Likes', 'Comments'])\n",
    "    writer.writeheader()\n",
    "    writer.writerows(posts_data)\n",
    "\n",
    "print(f\"Total unique posts collected: {len(posts_data)}\")\n"
   ]
  },
  {
   "cell_type": "code",
   "execution_count": 15,
   "metadata": {},
   "outputs": [
    {
     "data": {
      "text/html": [
       "<div>\n",
       "<style scoped>\n",
       "    .dataframe tbody tr th:only-of-type {\n",
       "        vertical-align: middle;\n",
       "    }\n",
       "\n",
       "    .dataframe tbody tr th {\n",
       "        vertical-align: top;\n",
       "    }\n",
       "\n",
       "    .dataframe thead th {\n",
       "        text-align: right;\n",
       "    }\n",
       "</style>\n",
       "<table border=\"1\" class=\"dataframe\">\n",
       "  <thead>\n",
       "    <tr style=\"text-align: right;\">\n",
       "      <th></th>\n",
       "      <th>Title</th>\n",
       "      <th>Author</th>\n",
       "      <th>Likes</th>\n",
       "      <th>Comments</th>\n",
       "    </tr>\n",
       "  </thead>\n",
       "  <tbody>\n",
       "    <tr>\n",
       "      <th>0</th>\n",
       "      <td>Free hotel rooms, meals for refugee applicants...</td>\n",
       "      <td>FancyNewMe</td>\n",
       "      <td>1284</td>\n",
       "      <td>722</td>\n",
       "    </tr>\n",
       "    <tr>\n",
       "      <th>1</th>\n",
       "      <td>Between work, life and the health of your love...</td>\n",
       "      <td>LifeLabsLP</td>\n",
       "      <td>0</td>\n",
       "      <td>0</td>\n",
       "    </tr>\n",
       "    <tr>\n",
       "      <th>2</th>\n",
       "      <td>What's the most \"small town\" thing you've witn...</td>\n",
       "      <td>official_biz</td>\n",
       "      <td>1722</td>\n",
       "      <td>2407</td>\n",
       "    </tr>\n",
       "    <tr>\n",
       "      <th>3</th>\n",
       "      <td>[Passan] Shohei Ohtani just posted on Instagra...</td>\n",
       "      <td>mattybabs</td>\n",
       "      <td>760</td>\n",
       "      <td>1045</td>\n",
       "    </tr>\n",
       "    <tr>\n",
       "      <th>4</th>\n",
       "      <td>[Passan] Shohei Ohtani's deal with the Dodgers...</td>\n",
       "      <td>TheTurtleShepard</td>\n",
       "      <td>12.8k</td>\n",
       "      <td>4193</td>\n",
       "    </tr>\n",
       "  </tbody>\n",
       "</table>\n",
       "</div>"
      ],
      "text/plain": [
       "                                               Title            Author  Likes  \\\n",
       "0  Free hotel rooms, meals for refugee applicants...        FancyNewMe   1284   \n",
       "1  Between work, life and the health of your love...        LifeLabsLP      0   \n",
       "2  What's the most \"small town\" thing you've witn...      official_biz   1722   \n",
       "3  [Passan] Shohei Ohtani just posted on Instagra...         mattybabs    760   \n",
       "4  [Passan] Shohei Ohtani's deal with the Dodgers...  TheTurtleShepard  12.8k   \n",
       "\n",
       "   Comments  \n",
       "0       722  \n",
       "1         0  \n",
       "2      2407  \n",
       "3      1045  \n",
       "4      4193  "
      ]
     },
     "execution_count": 15,
     "metadata": {},
     "output_type": "execute_result"
    }
   ],
   "source": [
    "import pandas as pd\n",
    "reddit_posts = pd.read_csv('new_reddit_posts_bs4.csv')\n",
    "reddit_posts.head()"
   ]
  }
 ],
 "metadata": {
  "kernelspec": {
   "display_name": "tensorflow_cpu",
   "language": "python",
   "name": "tensorflow_cpu"
  },
  "language_info": {
   "codemirror_mode": {
    "name": "ipython",
    "version": 3
   },
   "file_extension": ".py",
   "mimetype": "text/x-python",
   "name": "python",
   "nbconvert_exporter": "python",
   "pygments_lexer": "ipython3",
   "version": "3.11.5"
  }
 },
 "nbformat": 4,
 "nbformat_minor": 2
}
