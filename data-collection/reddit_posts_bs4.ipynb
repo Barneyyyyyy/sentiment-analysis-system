{
 "cells": [
  {
   "cell_type": "markdown",
   "metadata": {},
   "source": [
    "### Getting Reddit Posts using BeautifulSoup"
   ]
  },
  {
   "cell_type": "code",
   "execution_count": 1,
   "metadata": {},
   "outputs": [],
   "source": [
    "import requests\n",
    "import csv\n",
    "import time\n",
    "from bs4 import BeautifulSoup"
   ]
  },
  {
   "cell_type": "markdown",
   "metadata": {},
   "source": [
    "Specify the url for the webpage that we want to scrape. we're using [Reddit's old website](https://old.reddit.com) for simplicity. Before we start writing the script, first we take a look to the website and see its structure "
   ]
  },
  {
   "cell_type": "markdown",
   "metadata": {},
   "source": [
    "### Getting the Page with BeautifulSoup"
   ]
  },
  {
   "cell_type": "code",
   "execution_count": 2,
   "metadata": {},
   "outputs": [],
   "source": [
    "# First, we need to request the web page using the ‘requests’ library.\n",
    "url = \"https://old.reddit.com\"\n",
    "\n",
    "# Headers to simulate a browser visit.\n",
    "headers = {'User-Agent': 'Mozilla/5.0'}\n",
    "\n",
    "# Returns a response object which contains the entire source code of the HTML file.\n",
    "response = requests.get(url, headers=headers)"
   ]
  },
  {
   "cell_type": "markdown",
   "metadata": {},
   "source": [
    "### Finding the tags"
   ]
  },
  {
   "cell_type": "code",
   "execution_count": 3,
   "metadata": {},
   "outputs": [],
   "source": [
    "# Parse the page content\n",
    "soup = BeautifulSoup(response.content, 'html.parser')\n",
    "# Find all the posts in the page using the class name 'thing' which is the class name of the div tag that contains the posts.\n",
    "posts = soup.find_all('div', class_='thing')"
   ]
  },
  {
   "cell_type": "code",
   "execution_count": 196,
   "metadata": {},
   "outputs": [],
   "source": [
    "# Create a list to store the posts\n",
    "posts_data = []\n",
    "\n",
    "while len(posts_data) < 1000: # Get 1000 posts\n",
    "    for post in posts:\n",
    "        # Create a dictionary to store the post data\n",
    "        post_data = {}\n",
    "        # Get the title element of the post\n",
    "        title_element = post.find('p', class_=\"title\")\n",
    "        # Check if the post has a title and add it to the dictionary\n",
    "        post_data['Title'] = title_element.text if title_element else \"N/A\"\n",
    "\n",
    "        author_element = post.find('a', class_='author')\n",
    "        # Check if the post has an author and add it to the dictionary\n",
    "        post_data['Author'] = author_element.text if author_element else \"N/A\"\n",
    "\n",
    "        comments_element = post.find('a', class_='comments')\n",
    "        # Check if the post has comments and get only the number of comments and add it to the dictionary\n",
    "        post_data['Comments'] = comments_element.text.split()[0] if comments_element else 0\n",
    "\n",
    "        likes_element = post.find(\"div\", attrs={\"class\": \"score likes\"})\n",
    "        # Check if the post has likes and add it to the dictionary\n",
    "        if likes_element and likes_element.text == \"•\":\n",
    "            post_data['Likes'] = 0\n",
    "        elif likes_element:\n",
    "            post_data['Likes'] = likes_element.text\n",
    "        else:\n",
    "            post_data['Likes'] = \"N/A\"\n",
    "\n",
    "        # Add the post data to the list\n",
    "        posts_data.append(post_data)\n",
    "\n",
    "    # Get the button that takes us to the next page\n",
    "    next_button = soup.find('span', class_='next-button')\n",
    "    # Get the url of the next page\n",
    "    url = next_button.find('a').get('href') if next_button else None\n",
    "\n",
    "    if not url:\n",
    "        break\n",
    "\n",
    "    time.sleep(2)  # Wait for 2 seconds before making the next request"
   ]
  },
  {
   "cell_type": "code",
   "execution_count": 197,
   "metadata": {},
   "outputs": [
    {
     "name": "stdout",
     "output_type": "stream",
     "text": [
      "1026\n"
     ]
    }
   ],
   "source": [
    "# Write the posts data to a CSV file\n",
    "with open('reddit_posts_bs4.csv', 'w', newline='') as f:\n",
    "    writer = csv.DictWriter(f, fieldnames=['Title', 'Author', 'Likes', 'Comments'])\n",
    "    writer.writeheader()\n",
    "    writer.writerows(posts_data)\n",
    "\n",
    "print(len(posts_data))"
   ]
  }
 ],
 "metadata": {
  "kernelspec": {
   "display_name": "Python 3",
   "language": "python",
   "name": "python3"
  },
  "language_info": {
   "codemirror_mode": {
    "name": "ipython",
    "version": 3
   },
   "file_extension": ".py",
   "mimetype": "text/x-python",
   "name": "python",
   "nbconvert_exporter": "python",
   "pygments_lexer": "ipython3",
   "version": "3.11.5"
  }
 },
 "nbformat": 4,
 "nbformat_minor": 2
}
