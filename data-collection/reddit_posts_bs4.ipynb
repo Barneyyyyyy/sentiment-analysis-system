{
 "cells": [
  {
   "cell_type": "markdown",
   "metadata": {},
   "source": [
    "### Getting Reddit Posts using BeautifulSoup"
   ]
  },
  {
   "cell_type": "code",
   "execution_count": 2,
   "metadata": {},
   "outputs": [],
   "source": [
    "import requests\n",
    "import csv\n",
    "import time\n",
    "from bs4 import BeautifulSoup"
   ]
  },
  {
   "cell_type": "markdown",
   "metadata": {},
   "source": [
    "Specify the url for the webpage that we want to scrape. we're using [Reddit's old website](https://old.reddit.com) for simplicity. Before we start writing the script, first we take a look to the website and see its structure "
   ]
  },
  {
   "cell_type": "markdown",
   "metadata": {},
   "source": [
    "### Getting the Page with BeautifulSoup"
   ]
  },
  {
   "cell_type": "code",
   "execution_count": 19,
   "metadata": {},
   "outputs": [],
   "source": [
    "# First, we need to request the web page using the ‘requests’ library.\n",
    "url = \"https://old.reddit.com\"\n",
    "\n",
    "# Headers to simulate a browser visit.\n",
    "headers = {'User-Agent': 'Mozilla/5.0'}\n",
    "\n",
    "# Returns a response object which contains the entire source code of the HTML file.\n",
    "response = requests.get(url, headers=headers)"
   ]
  },
  {
   "cell_type": "markdown",
   "metadata": {},
   "source": [
    "### Finding the tags"
   ]
  },
  {
   "cell_type": "code",
   "execution_count": 20,
   "metadata": {},
   "outputs": [],
   "source": [
    "# Create a list to store the posts\n",
    "posts_data = []\n",
    "\n",
    "# Loop through the pages\n",
    "while True:\n",
    "    # Parse the page content\n",
    "    soup = BeautifulSoup(response.content, 'html.parser')\n",
    "    # Find all the posts in the page using the class name 'thing' which is the class name of the div tag that contains the posts.\n",
    "    posts = soup.find_all('div', class_='thing')\n",
    "\n",
    "    for post in posts:\n",
    "        # Create a dictionary to store the post data\n",
    "        post_data = {}\n",
    "        # Get the title element of the post\n",
    "        title_element = post.find('p', class_=\"title\")\n",
    "        # Check if the post has a title and add it to the dictionary\n",
    "        post_data['Title'] = title_element.text if title_element else \"N/A\"\n",
    "        author_element = post.find('a', class_='author')\n",
    "        # Check if the post has an author and add it to the dictionary\n",
    "        post_data['Author'] = author_element.text if author_element else \"N/A\"\n",
    "        comments_element = post.find('a', class_='comments')\n",
    "        # Check if the post has comments and get only the number of comments and add it to the dictionary\n",
    "        post_data['Comments'] = comments_element.text.split()[0] if comments_element else 0\n",
    "        likes_element = post.find(\"div\", attrs={\"class\": \"score likes\"})\n",
    "        # Check if the post has likes and add it to the dictionary\n",
    "        if likes_element and likes_element.text == \"•\":\n",
    "            post_data['Likes'] = 0\n",
    "        elif likes_element:\n",
    "            post_data['Likes'] = likes_element.text\n",
    "        else:\n",
    "            post_data['Likes'] = \"N/A\"\n",
    "        # Add the post data to the list\n",
    "        posts_data.append(post_data)\n",
    "\n",
    "    # Get the button that takes us to the next page\n",
    "    next_button = soup.find('span', class_='next-button')\n",
    "    # Get the url of the next page\n",
    "    url = next_button.find('a').get('href') if next_button else None\n",
    "\n",
    "    if url:\n",
    "        # Make the next request\n",
    "        response = requests.get(url, headers=headers)\n",
    "        time.sleep(2)  # Wait for 2 seconds before making the next request\n",
    "    else:\n",
    "        break"
   ]
  },
  {
   "cell_type": "code",
   "execution_count": 21,
   "metadata": {},
   "outputs": [
    {
     "name": "stdout",
     "output_type": "stream",
     "text": [
      "Total unique posts collected: 794\n"
     ]
    }
   ],
   "source": [
    "# Write the posts data to a CSV file\n",
    "with open('reddit_posts_bs4.csv', 'w', newline='') as f:\n",
    "    writer = csv.DictWriter(f, fieldnames=['Title', 'Author', 'Likes', 'Comments'])\n",
    "    writer.writeheader()\n",
    "    writer.writerows(posts_data)\n",
    "\n",
    "print(f\"Total unique posts collected: {len(posts_data)}\")"
   ]
  },
  {
   "cell_type": "code",
   "execution_count": 7,
   "metadata": {},
   "outputs": [
    {
     "data": {
      "text/html": [
       "<div>\n",
       "<style scoped>\n",
       "    .dataframe tbody tr th:only-of-type {\n",
       "        vertical-align: middle;\n",
       "    }\n",
       "\n",
       "    .dataframe tbody tr th {\n",
       "        vertical-align: top;\n",
       "    }\n",
       "\n",
       "    .dataframe thead th {\n",
       "        text-align: right;\n",
       "    }\n",
       "</style>\n",
       "<table border=\"1\" class=\"dataframe\">\n",
       "  <thead>\n",
       "    <tr style=\"text-align: right;\">\n",
       "      <th></th>\n",
       "      <th>Title</th>\n",
       "      <th>Author</th>\n",
       "      <th>Likes</th>\n",
       "      <th>Comments</th>\n",
       "    </tr>\n",
       "  </thead>\n",
       "  <tbody>\n",
       "    <tr>\n",
       "      <th>0</th>\n",
       "      <td>Russia Warns Israel Over Flooding Tunnels in G...</td>\n",
       "      <td>whosagoodbi</td>\n",
       "      <td>3793</td>\n",
       "      <td>1015</td>\n",
       "    </tr>\n",
       "    <tr>\n",
       "      <th>1</th>\n",
       "      <td>Canada's surging cost of living fuels reverse ...</td>\n",
       "      <td>Square-Simple723</td>\n",
       "      <td>433</td>\n",
       "      <td>216</td>\n",
       "    </tr>\n",
       "    <tr>\n",
       "      <th>2</th>\n",
       "      <td>We only use 100% Canadian Beef, and if you ask...</td>\n",
       "      <td>McDonaldsCanada</td>\n",
       "      <td>0</td>\n",
       "      <td>0</td>\n",
       "    </tr>\n",
       "    <tr>\n",
       "      <th>3</th>\n",
       "      <td>TIL Tom Cruise ended his marriages with Mimi R...</td>\n",
       "      <td>Motor-Conclusion-260</td>\n",
       "      <td>3433</td>\n",
       "      <td>373</td>\n",
       "    </tr>\n",
       "    <tr>\n",
       "      <th>4</th>\n",
       "      <td>Ontario to announce plan to allow beer in corn...</td>\n",
       "      <td>Jetboater111</td>\n",
       "      <td>364</td>\n",
       "      <td>314</td>\n",
       "    </tr>\n",
       "  </tbody>\n",
       "</table>\n",
       "</div>"
      ],
      "text/plain": [
       "                                               Title                Author   \n",
       "0  Russia Warns Israel Over Flooding Tunnels in G...           whosagoodbi  \\\n",
       "1  Canada's surging cost of living fuels reverse ...      Square-Simple723   \n",
       "2  We only use 100% Canadian Beef, and if you ask...       McDonaldsCanada   \n",
       "3  TIL Tom Cruise ended his marriages with Mimi R...  Motor-Conclusion-260   \n",
       "4  Ontario to announce plan to allow beer in corn...          Jetboater111   \n",
       "\n",
       "  Likes  Comments  \n",
       "0  3793      1015  \n",
       "1   433       216  \n",
       "2     0         0  \n",
       "3  3433       373  \n",
       "4   364       314  "
      ]
     },
     "execution_count": 7,
     "metadata": {},
     "output_type": "execute_result"
    }
   ],
   "source": [
    "import pandas as pd\n",
    "reddit_posts = pd.read_csv('reddit_posts_bs4.csv')\n",
    "reddit_posts.head()"
   ]
  },
  {
   "cell_type": "code",
   "execution_count": 13,
   "metadata": {},
   "outputs": [
    {
     "name": "stderr",
     "output_type": "stream",
     "text": [
      "No model was supplied, defaulted to distilbert-base-uncased-finetuned-sst-2-english and revision af0f99b (https://huggingface.co/distilbert-base-uncased-finetuned-sst-2-english).\n",
      "Using a pipeline without specifying a model name and revision in production is not recommended.\n"
     ]
    },
    {
     "name": "stdout",
     "output_type": "stream",
     "text": [
      "Positive posts: 190\n",
      "Negative posts: 798\n",
      "Neutral posts: 38\n"
     ]
    }
   ],
   "source": [
    "# We are using transformers library to get the sentiment of the posts.\n",
    "from transformers import pipeline\n",
    "\n",
    "# The sentiment-analysis pipeline from the transformers library is used to get the sentiment of the posts.\n",
    "# Since we haven't specified the model, it will use the default model which is DistilBERT.\n",
    "classifier = pipeline('sentiment-analysis')\n",
    "\n",
    "# Get the titles of the posts and store them in a list.\n",
    "reddit_title_posts = reddit_posts['Title'].tolist()\n",
    "\n",
    "# Create lists to store the posts based on their sentiment.\n",
    "positive_posts = []\n",
    "negative_posts = []\n",
    "neutral_posts = []\n",
    "\n",
    "# Get the sentiment of the posts and store them in the appropriate list.\n",
    "results = classifier(reddit_title_posts)\n",
    "\n",
    "# Loop through the posts and the results and store them in the appropriate list.\n",
    "for post, result in zip(reddit_title_posts, results):\n",
    "    score = round(result['score'], 4)\n",
    "    if 0.4 <= score <= 0.6:\n",
    "        label = 'NEUTRAL'\n",
    "        neutral_posts.append((post, score))\n",
    "    elif result['label'] == 'POSITIVE':\n",
    "        label = 'POSITIVE'\n",
    "        positive_posts.append((post, score))\n",
    "    else:\n",
    "        label = 'NEGATIVE'\n",
    "        negative_posts.append((post, score))\n",
    "\n",
    "print(f\"Positive posts: {len(positive_posts)}\")\n",
    "print(f\"Negative posts: {len(negative_posts)}\")\n",
    "print(f\"Neutral posts: {len(neutral_posts)}\")"
   ]
  }
 ],
 "metadata": {
  "kernelspec": {
   "display_name": "Python 3",
   "language": "python",
   "name": "python3"
  },
  "language_info": {
   "codemirror_mode": {
    "name": "ipython",
    "version": 3
   },
   "file_extension": ".py",
   "mimetype": "text/x-python",
   "name": "python",
   "nbconvert_exporter": "python",
   "pygments_lexer": "ipython3",
   "version": "3.11.5"
  }
 },
 "nbformat": 4,
 "nbformat_minor": 2
}
